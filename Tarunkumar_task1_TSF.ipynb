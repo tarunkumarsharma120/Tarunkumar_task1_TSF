{
 "cells": [
  {
   "cell_type": "markdown",
   "id": "91bcf0e8-d80c-4606-ab99-91ede4a0e50c",
   "metadata": {},
   "source": [
    "<div style=\"background: url(https://i.postimg.cc/ZnHTP71s/aircraft-airplane-boat-1575833.jpg)\" class=\"page-holder bg-cover\">\n",
    "\n",
    "  <div class=\"container py-5\">\n",
    "    <header class=\"text-center text-white py-5\">\n",
    "      <h1 class=\"display-4 font-weight-bold mb-4\"; style=\"color:yellow\">TASK 1 By THE SPARKS FOUNDATION</h1>\n",
    "      <p class=\"lead mb-0\"; style=\"color:white\">PREDICTION USING SUPERVISED MACHINE LEARNING</p>\n",
    "        <h4 class=\"lead mb-0\"; style=\"color:gold\">Predict the percentage of an student based on the number of study hours.</h4>\n",
    "    </header>\n",
    "  </div>\n",
    "</div>"
   ]
  },
  {
   "cell_type": "markdown",
   "id": "30898b0a-79f3-40f5-a229-fe9b864a006f",
   "metadata": {},
   "source": [
    "# <font face='MV Boli'><font color=green><b> Importing the library\n"
   ]
  },
  {
   "cell_type": "code",
   "execution_count": 1,
   "id": "7c86b63c-8fd1-4a23-92d6-55b6844eed5e",
   "metadata": {},
   "outputs": [],
   "source": [
    "import numpy as np\n",
    "import pandas as pd\n",
    "import matplotlib.pyplot as plt\n",
    "%matplotlib inline"
   ]
  },
  {
   "cell_type": "markdown",
   "id": "0d41fc14-2a8d-4a67-9bec-df98e765fd72",
   "metadata": {},
   "source": [
    "# <font face='MV Boli'><font color=green><b> Loading the Dataset"
   ]
  },
  {
   "cell_type": "code",
   "execution_count": 2,
   "id": "149512fb-98a9-4cef-90dd-3bae2473e9c4",
   "metadata": {},
   "outputs": [],
   "source": [
    "student_data=pd.read_csv('student_scores - student_scores.csv')"
   ]
  },
  {
   "cell_type": "code",
   "execution_count": 3,
   "id": "f950fc52-8b56-49f3-9f38-2e1da52b7d7e",
   "metadata": {},
   "outputs": [
    {
     "data": {
      "text/html": [
       "<div>\n",
       "<style scoped>\n",
       "    .dataframe tbody tr th:only-of-type {\n",
       "        vertical-align: middle;\n",
       "    }\n",
       "\n",
       "    .dataframe tbody tr th {\n",
       "        vertical-align: top;\n",
       "    }\n",
       "\n",
       "    .dataframe thead th {\n",
       "        text-align: right;\n",
       "    }\n",
       "</style>\n",
       "<table border=\"1\" class=\"dataframe\">\n",
       "  <thead>\n",
       "    <tr style=\"text-align: right;\">\n",
       "      <th></th>\n",
       "      <th>Hours</th>\n",
       "      <th>Scores</th>\n",
       "    </tr>\n",
       "  </thead>\n",
       "  <tbody>\n",
       "    <tr>\n",
       "      <th>0</th>\n",
       "      <td>2.5</td>\n",
       "      <td>21</td>\n",
       "    </tr>\n",
       "    <tr>\n",
       "      <th>1</th>\n",
       "      <td>5.1</td>\n",
       "      <td>47</td>\n",
       "    </tr>\n",
       "    <tr>\n",
       "      <th>2</th>\n",
       "      <td>3.2</td>\n",
       "      <td>27</td>\n",
       "    </tr>\n",
       "    <tr>\n",
       "      <th>3</th>\n",
       "      <td>8.5</td>\n",
       "      <td>75</td>\n",
       "    </tr>\n",
       "    <tr>\n",
       "      <th>4</th>\n",
       "      <td>3.5</td>\n",
       "      <td>30</td>\n",
       "    </tr>\n",
       "  </tbody>\n",
       "</table>\n",
       "</div>"
      ],
      "text/plain": [
       "   Hours  Scores\n",
       "0    2.5      21\n",
       "1    5.1      47\n",
       "2    3.2      27\n",
       "3    8.5      75\n",
       "4    3.5      30"
      ]
     },
     "execution_count": 3,
     "metadata": {},
     "output_type": "execute_result"
    }
   ],
   "source": [
    "student_data.head(5)"
   ]
  },
  {
   "cell_type": "code",
   "execution_count": 4,
   "id": "45302cf1-186a-4c1e-9c12-2ba49b6c5247",
   "metadata": {},
   "outputs": [
    {
     "name": "stdout",
     "output_type": "stream",
     "text": [
      "<class 'pandas.core.frame.DataFrame'>\n",
      "RangeIndex: 25 entries, 0 to 24\n",
      "Data columns (total 2 columns):\n",
      " #   Column  Non-Null Count  Dtype  \n",
      "---  ------  --------------  -----  \n",
      " 0   Hours   25 non-null     float64\n",
      " 1   Scores  25 non-null     int64  \n",
      "dtypes: float64(1), int64(1)\n",
      "memory usage: 528.0 bytes\n"
     ]
    }
   ],
   "source": [
    "student_data.info()"
   ]
  },
  {
   "cell_type": "code",
   "execution_count": 5,
   "id": "f080624d-9b5f-4f91-95a5-41ca8f660d8b",
   "metadata": {},
   "outputs": [
    {
     "data": {
      "text/html": [
       "<div>\n",
       "<style scoped>\n",
       "    .dataframe tbody tr th:only-of-type {\n",
       "        vertical-align: middle;\n",
       "    }\n",
       "\n",
       "    .dataframe tbody tr th {\n",
       "        vertical-align: top;\n",
       "    }\n",
       "\n",
       "    .dataframe thead th {\n",
       "        text-align: right;\n",
       "    }\n",
       "</style>\n",
       "<table border=\"1\" class=\"dataframe\">\n",
       "  <thead>\n",
       "    <tr style=\"text-align: right;\">\n",
       "      <th></th>\n",
       "      <th>Hours</th>\n",
       "      <th>Scores</th>\n",
       "    </tr>\n",
       "  </thead>\n",
       "  <tbody>\n",
       "    <tr>\n",
       "      <th>count</th>\n",
       "      <td>25.000000</td>\n",
       "      <td>25.000000</td>\n",
       "    </tr>\n",
       "    <tr>\n",
       "      <th>mean</th>\n",
       "      <td>5.012000</td>\n",
       "      <td>51.480000</td>\n",
       "    </tr>\n",
       "    <tr>\n",
       "      <th>std</th>\n",
       "      <td>2.525094</td>\n",
       "      <td>25.286887</td>\n",
       "    </tr>\n",
       "    <tr>\n",
       "      <th>min</th>\n",
       "      <td>1.100000</td>\n",
       "      <td>17.000000</td>\n",
       "    </tr>\n",
       "    <tr>\n",
       "      <th>25%</th>\n",
       "      <td>2.700000</td>\n",
       "      <td>30.000000</td>\n",
       "    </tr>\n",
       "    <tr>\n",
       "      <th>50%</th>\n",
       "      <td>4.800000</td>\n",
       "      <td>47.000000</td>\n",
       "    </tr>\n",
       "    <tr>\n",
       "      <th>75%</th>\n",
       "      <td>7.400000</td>\n",
       "      <td>75.000000</td>\n",
       "    </tr>\n",
       "    <tr>\n",
       "      <th>max</th>\n",
       "      <td>9.200000</td>\n",
       "      <td>95.000000</td>\n",
       "    </tr>\n",
       "  </tbody>\n",
       "</table>\n",
       "</div>"
      ],
      "text/plain": [
       "           Hours     Scores\n",
       "count  25.000000  25.000000\n",
       "mean    5.012000  51.480000\n",
       "std     2.525094  25.286887\n",
       "min     1.100000  17.000000\n",
       "25%     2.700000  30.000000\n",
       "50%     4.800000  47.000000\n",
       "75%     7.400000  75.000000\n",
       "max     9.200000  95.000000"
      ]
     },
     "execution_count": 5,
     "metadata": {},
     "output_type": "execute_result"
    }
   ],
   "source": [
    "student_data.describe()"
   ]
  },
  {
   "cell_type": "markdown",
   "id": "a75d27d7-a6b3-409a-8761-3ba1c913043f",
   "metadata": {},
   "source": [
    "## <font face='MV Boli'><font color=green><b> Now visualize the Dataset"
   ]
  },
  {
   "cell_type": "code",
   "execution_count": 6,
   "id": "84b00736-7a8d-4944-93ab-a3fadf5f5039",
   "metadata": {},
   "outputs": [
    {
     "data": {
      "text/plain": [
       "[Text(0.5, 0, 'Hours'),\n",
       " Text(0, 0.5, 'Scores'),\n",
       " Text(0.5, 1.0, 'Number of study hours vs Scores')]"
      ]
     },
     "execution_count": 6,
     "metadata": {},
     "output_type": "execute_result"
    },
    {
     "data": {
      "image/png": "[encoded data removed]",
      "text/plain": [
       "<Figure size 840x490 with 1 Axes>"
      ]
     },
     "metadata": {},
     "output_type": "display_data"
    }
   ],
   "source": [
    "plt.grid\n",
    "fig=plt.figure(facecolor='lightblue',figsize=(12,7),dpi=70,edgecolor='blue')\n",
    "ax=fig.add_subplot(111)\n",
    "ax.grid()\n",
    "ax.scatter(student_data.Hours,student_data.Scores,label='Scores according to number of study hours',c='green',marker='o')\n",
    "ax.legend()\n",
    "ax.set(xlabel='Hours',ylabel='Scores',title='Number of study hours vs Scores')"
   ]
  },
  {
   "cell_type": "markdown",
   "id": "59fb1fc7-32cc-4a65-bb52-6188419c0b76",
   "metadata": {},
   "source": [
    "### <font face='Bahnschrift Light Condensed'><font color=red><b> The data is linearly arranged so we can use here linear regression model easily"
   ]
  },
  {
   "cell_type": "markdown",
   "id": "b81770d4-1b4f-456d-ac5f-440b874c8e38",
   "metadata": {},
   "source": [
    "## <font face='MV Boli'><font color=green><b> Train Test split of data"
   ]
  },
  {
   "cell_type": "code",
   "execution_count": 7,
   "id": "0c78e4db-3c9a-4b03-8fe9-e98f02397243",
   "metadata": {},
   "outputs": [],
   "source": [
    "from sklearn.model_selection import train_test_split"
   ]
  },
  {
   "cell_type": "code",
   "execution_count": 8,
   "id": "023245ce-f1b4-4e03-ab57-9870c22c3ab9",
   "metadata": {},
   "outputs": [],
   "source": [
    "X=np.array(student_data.Hours).reshape(-1,1)"
   ]
  },
  {
   "cell_type": "code",
   "execution_count": 9,
   "id": "4ce523fb-3319-4b48-a9e8-4d6653a086e5",
   "metadata": {},
   "outputs": [],
   "source": [
    "X_train,X_test,y_train,y_test=train_test_split(X,np.array(student_data.Scores),test_size=0.25,random_state=0)"
   ]
  },
  {
   "cell_type": "code",
   "execution_count": 10,
   "id": "4fa6e28b-eb44-4f5b-b39c-f7baa9eefbb0",
   "metadata": {},
   "outputs": [
    {
     "data": {
      "text/plain": [
       "array([[2.5],\n",
       "       [5.1],\n",
       "       [3.2],\n",
       "       [8.5],\n",
       "       [3.5],\n",
       "       [1.5],\n",
       "       [9.2],\n",
       "       [5.5],\n",
       "       [8.3],\n",
       "       [2.7],\n",
       "       [7.7],\n",
       "       [5.9],\n",
       "       [4.5],\n",
       "       [3.3],\n",
       "       [1.1],\n",
       "       [8.9],\n",
       "       [2.5],\n",
       "       [1.9],\n",
       "       [6.1],\n",
       "       [7.4],\n",
       "       [2.7],\n",
       "       [4.8],\n",
       "       [3.8],\n",
       "       [6.9],\n",
       "       [7.8]])"
      ]
     },
     "execution_count": 10,
     "metadata": {},
     "output_type": "execute_result"
    }
   ],
   "source": [
    "np.array(student_data.Hours).reshape(-1,1)"
   ]
  },
  {
   "cell_type": "markdown",
   "id": "71c47986-63a4-44a8-89fd-3f7969b064c9",
   "metadata": {},
   "source": [
    "## <font face='MV Boli'><font color=green><b> Training of the data"
   ]
  },
  {
   "cell_type": "code",
   "execution_count": 11,
   "id": "e13fa6e7-74a7-4344-81c6-2dc41aa8008e",
   "metadata": {},
   "outputs": [
    {
     "data": {
      "text/plain": [
       "LinearRegression()"
      ]
     },
     "execution_count": 11,
     "metadata": {},
     "output_type": "execute_result"
    }
   ],
   "source": [
    "from sklearn.linear_model import LinearRegression  \n",
    "regressor = LinearRegression()  \n",
    "regressor.fit(X_train, y_train)"
   ]
  },
  {
   "cell_type": "code",
   "execution_count": 12,
   "id": "cca9acd0-942a-4be6-a263-05d1057b719b",
   "metadata": {},
   "outputs": [
    {
     "data": {
      "text/plain": [
       "[Text(0.5, 0, 'Hours'),\n",
       " Text(0, 0.5, 'Scores'),\n",
       " Text(0.5, 1.0, 'Number of study hours vs Scores')]"
      ]
     },
     "execution_count": 12,
     "metadata": {},
     "output_type": "execute_result"
    },
    {
     "data": {
      "image/png": "[encoded data removed]",
      "text/plain": [
       "<Figure size 840x490 with 1 Axes>"
      ]
     },
     "metadata": {},
     "output_type": "display_data"
    }
   ],
   "source": [
    "plt.grid\n",
    "fig=plt.figure(facecolor='lightblue',figsize=(12,7),dpi=70,edgecolor='blue')\n",
    "ax=fig.add_subplot(111)\n",
    "ax.grid()\n",
    "ax.scatter(student_data.Hours,student_data.Scores,label='Scores according to number of study hours',c='green',marker='o')\n",
    "line = regressor.coef_*X+regressor.intercept_\n",
    "ax.plot(X,line,label='predicting values on line',c='red',ls='--',linewidth=2,marker='*',mec='blue',ms=15)\n",
    "ax.legend()\n",
    "ax.set(xlabel='Hours',ylabel='Scores',title='Number of study hours vs Scores')"
   ]
  },
  {
   "cell_type": "markdown",
   "id": "f3cb5fee-ba26-4c2e-9b68-b3f7b5532ca4",
   "metadata": {},
   "source": [
    "# <font face='MV Boli'><font color=green><b> Now time to do prediction"
   ]
  },
  {
   "cell_type": "code",
   "execution_count": 13,
   "id": "b695ccf1-4f73-4c7c-99f6-1d7c38517103",
   "metadata": {},
   "outputs": [],
   "source": [
    "y_pred=regressor.predict(X_test)"
   ]
  },
  {
   "cell_type": "code",
   "execution_count": 14,
   "id": "fc5d1d4a-e5eb-4f2f-ae0e-cf0064e70256",
   "metadata": {},
   "outputs": [
    {
     "data": {
      "text/plain": [
       "[Text(0.5, 1.0, 'Simple Comparision between the predicted Values and Actual values')]"
      ]
     },
     "execution_count": 14,
     "metadata": {},
     "output_type": "execute_result"
    },
    {
     "data": {
      "image/png": "[encoded data removed]",
      "text/plain": [
       "<Figure size 700x490 with 1 Axes>"
      ]
     },
     "metadata": {},
     "output_type": "display_data"
    }
   ],
   "source": [
    "fig=plt.figure(facecolor='green',figsize=(10,7),dpi=70,edgecolor='blue')\n",
    "plt.plot(y_pred,label='predicted values',ls='--',linewidth=2,marker='*',mec='blue',ms=15)\n",
    "plt.plot(y_test,label='actual values',ls='--',linewidth=2,marker='o',mec='yellow',ms=15)\n",
    "plt.legend()\n",
    "ax.set(title='Simple Comparision between the predicted Values and Actual values')"
   ]
  },
  {
   "cell_type": "code",
   "execution_count": 15,
   "id": "206327f4-9d40-49df-9c08-141842a12a5c",
   "metadata": {},
   "outputs": [
    {
     "data": {
      "text/html": [
       "<div>\n",
       "<style scoped>\n",
       "    .dataframe tbody tr th:only-of-type {\n",
       "        vertical-align: middle;\n",
       "    }\n",
       "\n",
       "    .dataframe tbody tr th {\n",
       "        vertical-align: top;\n",
       "    }\n",
       "\n",
       "    .dataframe thead th {\n",
       "        text-align: right;\n",
       "    }\n",
       "</style>\n",
       "<table border=\"1\" class=\"dataframe\">\n",
       "  <thead>\n",
       "    <tr style=\"text-align: right;\">\n",
       "      <th></th>\n",
       "      <th>predicted_value</th>\n",
       "      <th>Actual_value</th>\n",
       "    </tr>\n",
       "  </thead>\n",
       "  <tbody>\n",
       "    <tr>\n",
       "      <th>0</th>\n",
       "      <td>16.844722</td>\n",
       "      <td>20</td>\n",
       "    </tr>\n",
       "    <tr>\n",
       "      <th>1</th>\n",
       "      <td>33.745575</td>\n",
       "      <td>27</td>\n",
       "    </tr>\n",
       "    <tr>\n",
       "      <th>2</th>\n",
       "      <td>75.500624</td>\n",
       "      <td>69</td>\n",
       "    </tr>\n",
       "    <tr>\n",
       "      <th>3</th>\n",
       "      <td>26.786400</td>\n",
       "      <td>30</td>\n",
       "    </tr>\n",
       "    <tr>\n",
       "      <th>4</th>\n",
       "      <td>60.588106</td>\n",
       "      <td>62</td>\n",
       "    </tr>\n",
       "    <tr>\n",
       "      <th>5</th>\n",
       "      <td>39.710582</td>\n",
       "      <td>35</td>\n",
       "    </tr>\n",
       "    <tr>\n",
       "      <th>6</th>\n",
       "      <td>20.821393</td>\n",
       "      <td>24</td>\n",
       "    </tr>\n",
       "  </tbody>\n",
       "</table>\n",
       "</div>"
      ],
      "text/plain": [
       "   predicted_value  Actual_value\n",
       "0        16.844722            20\n",
       "1        33.745575            27\n",
       "2        75.500624            69\n",
       "3        26.786400            30\n",
       "4        60.588106            62\n",
       "5        39.710582            35\n",
       "6        20.821393            24"
      ]
     },
     "execution_count": 15,
     "metadata": {},
     "output_type": "execute_result"
    }
   ],
   "source": [
    "pd.DataFrame({'predicted_value':y_pred,'Actual_value':y_test})"
   ]
  },
  {
   "cell_type": "markdown",
   "id": "314e8e4c-dd08-4852-8611-a7e3c9cbdbb0",
   "metadata": {},
   "source": [
    "# <font face='MV Boli'><font color=green><b> Evaluating the Model"
   ]
  },
  {
   "cell_type": "code",
   "execution_count": 16,
   "id": "b1f72187-2b77-4d00-89f6-a57e0eecc016",
   "metadata": {},
   "outputs": [
    {
     "name": "stdout",
     "output_type": "stream",
     "text": [
      "Mean Absolute Error: 4.130879918502486\n",
      "R2_score: 0.9367661043365055\n"
     ]
    }
   ],
   "source": [
    "from sklearn import metrics  \n",
    "print('Mean Absolute Error:', \n",
    "      metrics.mean_absolute_error(y_test, y_pred)) \n",
    "print('R2_score:',metrics.r2_score(y_test,y_pred))"
   ]
  },
  {
   "cell_type": "markdown",
   "id": "68465e3d-480f-4e9f-b93e-c4acbbb55ca5",
   "metadata": {},
   "source": [
    "<div style=\"background: url(https://i.postimg.cc/ZnHTP71s/aircraft-airplane-boat-1575833.jpg)\" class=\"page-holder bg-cover\">\n",
    "\n",
    "  <div class=\"container py-5\">\n",
    "    <header class=\"text-center text-white py-5\">\n",
    "      <h1 class=\"display-4 font-weight-bold mb-4\"; style=\"color:yellow\"><center>THANK YOU</h1>\n",
    "    </header>\n",
    "  </div>\n",
    "</div>"
   ]
  }
 ],
 "metadata": {
  "kernelspec": {
   "display_name": "Python 3",
   "language": "python",
   "name": "python3"
  },
  "language_info": {
   "codemirror_mode": {
    "name": "ipython",
    "version": 3
   },
   "file_extension": ".py",
   "mimetype": "text/x-python",
   "name": "python",
   "nbconvert_exporter": "python",
   "pygments_lexer": "ipython3",
   "version": "3.9.1"
  }
 },
 "nbformat": 4,
 "nbformat_minor": 5
}
